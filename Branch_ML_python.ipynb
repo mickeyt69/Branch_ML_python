{
 "cells": [
  {
   "cell_type": "code",
   "execution_count": 18,
   "metadata": {
    "collapsed": true
   },
   "outputs": [],
   "source": [
    "import pandas as pd\n",
    "import numpy as np\n",
    "\n",
    "from sklearn import preprocessing \n",
    "import matplotlib.pyplot as plt \n",
    "\n",
    "from sklearn.model_selection import train_test_split\n",
    "\n",
    "\n",
    "from sklearn.preprocessing import StandardScaler\n",
    "\n",
    "from sklearn import metrics \n",
    "from sklearn.metrics import classification_report\n",
    "\n",
    "import seaborn as sb\n",
    "\n",
    "data = pd.read_csv(\"C:/Users/Michael/Desktop/data_18122018v3_anon.csv\", delimiter=',')"
   ]
  },
  {
   "cell_type": "code",
   "execution_count": 19,
   "metadata": {
    "collapsed": true
   },
   "outputs": [],
   "source": [
    "data\n",
    "\n",
    "X = data.iloc[:, [0, 16]].values\n",
    "y= data.iloc[:, 17].values"
   ]
  },
  {
   "cell_type": "code",
   "execution_count": 20,
   "metadata": {},
   "outputs": [
    {
     "data": {
      "image/png": "[encoded data removed]",
      "text/plain": [
       "<matplotlib.figure.Figure at 0x1cfec017f60>"
      ]
     },
     "metadata": {},
     "output_type": "display_data"
    }
   ],
   "source": [
    "sb.heatmap(data.corr())  \n",
    "plt.show()"
   ]
  },
  {
   "cell_type": "code",
   "execution_count": 21,
   "metadata": {
    "collapsed": true
   },
   "outputs": [],
   "source": [
    "X_train, X_test, y_train, y_test = train_test_split(X, y, test_size = 0.25, random_state = 0)\n",
    "\n",
    "\n",
    "###Predicting the Test set results\n",
    "\n",
    "from sklearn.linear_model import LogisticRegression\n",
    "classifier = LogisticRegression(random_state = 0)\n",
    "classifier.fit(X_train, y_train)\n",
    "y_pred = classifier.predict(X_test)"
   ]
  },
  {
   "cell_type": "code",
   "execution_count": 22,
   "metadata": {},
   "outputs": [
    {
     "name": "stdout",
     "output_type": "stream",
     "text": [
      "             precision    recall  f1-score   support\n",
      "\n",
      "          0       0.82      0.99      0.90      7728\n",
      "          1       0.45      0.04      0.08      1761\n",
      "\n",
      "avg / total       0.75      0.81      0.74      9489\n",
      "\n"
     ]
    }
   ],
   "source": [
    "###Making the Confusion Matrix\n",
    "\n",
    "from sklearn.metrics import confusion_matrix\n",
    "cm = confusion_matrix(y_test, y_pred)\n",
    "\n",
    "classifier.score(X_test,y_test)\n",
    "\n",
    "print(classification_report(y_test, y_pred))"
   ]
  },
  {
   "cell_type": "code",
   "execution_count": 23,
   "metadata": {},
   "outputs": [
    {
     "name": "stdout",
     "output_type": "stream",
     "text": [
      "Warning: Maximum number of iterations has been exceeded.\n",
      "         Current function value: 0.102407\n",
      "         Iterations: 35\n",
      "                         Results: Logit\n",
      "================================================================\n",
      "Model:              Logit            Pseudo R-squared: 0.792    \n",
      "Dependent Variable: target_var       AIC:              5854.2248\n",
      "Date:               2019-01-16 23:08 BIC:              5953.3024\n",
      "No. Observations:   28466            Log-Likelihood:   -2915.1  \n",
      "Df Model:           11               LL-Null:          -14024.  \n",
      "Df Residuals:       28454            LLR p-value:      0.0000   \n",
      "Converged:          0.0000           Scale:            1.0000   \n",
      "No. Iterations:     35.0000                                     \n",
      "-----------------------------------------------------------------\n",
      "             Coef.   Std.Err.     z      P>|z|    [0.025   0.975]\n",
      "-----------------------------------------------------------------\n",
      "Intercept   -6.8640    0.1039  -66.0834  0.0000  -7.0676  -6.6604\n",
      "var1         1.0928    0.1301    8.4011  0.0000   0.8379   1.3478\n",
      "var2         0.2711    0.0571    4.7523  0.0000   0.1593   0.3830\n",
      "var3         1.1249    0.0452   24.9109  0.0000   1.0364   1.2135\n",
      "var4         0.2023    0.0110   18.4340  0.0000   0.1808   0.2238\n",
      "var5         0.4635    0.0330   14.0516  0.0000   0.3988   0.5281\n",
      "var6         0.3991    0.0176   22.7387  0.0000   0.3647   0.4335\n",
      "var7         0.8032    0.0159   50.5547  0.0000   0.7721   0.8344\n",
      "var8         0.4246    0.0159   26.6350  0.0000   0.3933   0.4558\n",
      "var9         0.4331    0.0096   45.2814  0.0000   0.4143   0.4518\n",
      "var10        0.0076    0.0013    5.9778  0.0000   0.0051   0.0101\n",
      "var11        0.0634    0.0128    4.9634  0.0000   0.0383   0.0884\n",
      "================================================================\n",
      "\n"
     ]
    },
    {
     "name": "stderr",
     "output_type": "stream",
     "text": [
      "C:\\Users\\Michael\\Anaconda3\\lib\\site-packages\\statsmodels\\base\\model.py:466: ConvergenceWarning: Maximum Likelihood optimization failed to converge. Check mle_retvals\n",
      "  \"Check mle_retvals\", ConvergenceWarning)\n"
     ]
    }
   ],
   "source": [
    "###statsmodel\n",
    "\n",
    "import statsmodels.api as sm\n",
    "import statsmodels.formula.api as smf\n",
    "\n",
    "train, test = train_test_split(data, test_size = 0.25, random_state = 0)\n",
    "\n",
    "model=smf.logit('target_var~var1+var2+var3+var4+var5+var6+var7+var8+var9+var10+var11',data=train)\n",
    "result=model.fit()\n",
    "print(result.summary2())\n"
   ]
  },
  {
   "cell_type": "code",
   "execution_count": 24,
   "metadata": {},
   "outputs": [
    {
     "data": {
      "text/plain": [
       "array([[7635,   93],\n",
       "       [1684,   77]])"
      ]
     },
     "execution_count": 24,
     "metadata": {},
     "output_type": "execute_result"
    }
   ],
   "source": [
    "pred=result.predict(test)\n",
    "\n",
    "cm = confusion_matrix(y_test, y_pred)\n",
    "cm"
   ]
  },
  {
   "cell_type": "code",
   "execution_count": null,
   "metadata": {
    "collapsed": true
   },
   "outputs": [],
   "source": []
  }
 ],
 "metadata": {
  "kernelspec": {
   "display_name": "Python 3",
   "language": "python",
   "name": "python3"
  },
  "language_info": {
   "codemirror_mode": {
    "name": "ipython",
    "version": 3
   },
   "file_extension": ".py",
   "mimetype": "text/x-python",
   "name": "python",
   "nbconvert_exporter": "python",
   "pygments_lexer": "ipython3",
   "version": "3.6.0"
  }
 },
 "nbformat": 4,
 "nbformat_minor": 2
}
